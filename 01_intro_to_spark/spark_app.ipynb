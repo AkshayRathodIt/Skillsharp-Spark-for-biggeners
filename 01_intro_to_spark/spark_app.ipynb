{
 "cells": [
  {
   "cell_type": "code",
   "execution_count": null,
   "metadata": {},
   "outputs": [
    {
     "name": "stdout",
     "output_type": "stream",
     "text": [
      "Collecting pandas\n",
      "  Downloading pandas-2.2.3-cp310-cp310-win_amd64.whl (11.6 MB)\n",
      "     ---------------------------------------- 11.6/11.6 MB 3.0 MB/s eta 0:00:00\n",
      "Requirement already satisfied: python-dateutil>=2.8.2 in c:\\users\\akshay\\appdata\\local\\programs\\python\\python310\\lib\\site-packages (from pandas) (2.9.0.post0)\n",
      "Collecting tzdata>=2022.7\n",
      "  Using cached tzdata-2024.2-py2.py3-none-any.whl (346 kB)\n",
      "Collecting pytz>=2020.1\n",
      "  Using cached pytz-2024.2-py2.py3-none-any.whl (508 kB)\n",
      "Collecting numpy>=1.22.4\n",
      "  Downloading numpy-2.1.3-cp310-cp310-win_amd64.whl (12.9 MB)\n",
      "     ---------------------------------------- 12.9/12.9 MB 3.0 MB/s eta 0:00:00\n",
      "Requirement already satisfied: six>=1.5 in c:\\users\\akshay\\appdata\\local\\programs\\python\\python310\\lib\\site-packages (from python-dateutil>=2.8.2->pandas) (1.16.0)\n",
      "Installing collected packages: pytz, tzdata, numpy, pandas\n",
      "Successfully installed numpy-2.1.3 pandas-2.2.3 pytz-2024.2 tzdata-2024.2\n",
      "Note: you may need to restart the kernel to use updated packages.\n"
     ]
    },
    {
     "name": "stderr",
     "output_type": "stream",
     "text": [
      "WARNING: You are using pip version 22.0.4; however, version 24.3.1 is available.\n",
      "You should consider upgrading via the 'c:\\Users\\Akshay\\AppData\\Local\\Programs\\Python\\Python310\\python.exe -m pip install --upgrade pip' command.\n"
     ]
    }
   ],
   "source": [
    "# pip install pandas"
   ]
  },
  {
   "cell_type": "code",
   "execution_count": 14,
   "metadata": {},
   "outputs": [],
   "source": [
    "import time\n",
    "from pyspark.sql import SparkSession"
   ]
  },
  {
   "cell_type": "code",
   "execution_count": 15,
   "metadata": {},
   "outputs": [],
   "source": [
    "spark = (SparkSession\n",
    "        .builder\n",
    "        .master(\"local[3]\")\n",
    "        .appName(\"my_spark_app\")\n",
    "        .getOrCreate()\n",
    "        )"
   ]
  },
  {
   "cell_type": "code",
   "execution_count": 16,
   "metadata": {},
   "outputs": [],
   "source": [
    "data = [(1,\"tony stark\",\"Ironman\"),\n",
    "        (2,\"Stev Rogers\",\"Capton America\"),\n",
    "        (3,\"Nathasha Romanof\",\"Black Widow\"),\n",
    "        (4,\"klint barter\",\"Hokey\"),\n",
    "        (5,\"Dr. Bruce Nanner\",\"Hulk\"),\n",
    "        (6,\"Thor Odinson\",\"Thor\")]\n",
    "\n",
    "schema = [\"id\",\"identity\",\"superhero\"]\n"
   ]
  },
  {
   "cell_type": "code",
   "execution_count": 17,
   "metadata": {},
   "outputs": [
    {
     "name": "stdout",
     "output_type": "stream",
     "text": [
      "+---+----------------+--------------+\n",
      "| id|        identity|     superhero|\n",
      "+---+----------------+--------------+\n",
      "|  1|      tony stark|       Ironman|\n",
      "|  2|     Stev Rogers|Capton America|\n",
      "|  3|Nathasha Romanof|   Black Widow|\n",
      "|  4|    klint barter|         Hokey|\n",
      "|  5|Dr. Bruce Nanner|          Hulk|\n",
      "|  6|    Thor Odinson|          Thor|\n",
      "+---+----------------+--------------+\n",
      "\n"
     ]
    }
   ],
   "source": [
    "df = spark.createDataFrame(data=data, schema=schema)\n",
    "df.show()"
   ]
  },
  {
   "cell_type": "code",
   "execution_count": 18,
   "metadata": {},
   "outputs": [
    {
     "data": {
      "text/html": [
       "<div>\n",
       "<style scoped>\n",
       "    .dataframe tbody tr th:only-of-type {\n",
       "        vertical-align: middle;\n",
       "    }\n",
       "\n",
       "    .dataframe tbody tr th {\n",
       "        vertical-align: top;\n",
       "    }\n",
       "\n",
       "    .dataframe thead th {\n",
       "        text-align: right;\n",
       "    }\n",
       "</style>\n",
       "<table border=\"1\" class=\"dataframe\">\n",
       "  <thead>\n",
       "    <tr style=\"text-align: right;\">\n",
       "      <th></th>\n",
       "      <th>id</th>\n",
       "      <th>identity</th>\n",
       "      <th>superhero</th>\n",
       "    </tr>\n",
       "  </thead>\n",
       "  <tbody>\n",
       "    <tr>\n",
       "      <th>0</th>\n",
       "      <td>1</td>\n",
       "      <td>tony stark</td>\n",
       "      <td>Ironman</td>\n",
       "    </tr>\n",
       "    <tr>\n",
       "      <th>1</th>\n",
       "      <td>2</td>\n",
       "      <td>Stev Rogers</td>\n",
       "      <td>Capton America</td>\n",
       "    </tr>\n",
       "    <tr>\n",
       "      <th>2</th>\n",
       "      <td>3</td>\n",
       "      <td>Nathasha Romanof</td>\n",
       "      <td>Black Widow</td>\n",
       "    </tr>\n",
       "    <tr>\n",
       "      <th>3</th>\n",
       "      <td>4</td>\n",
       "      <td>klint barter</td>\n",
       "      <td>Hokey</td>\n",
       "    </tr>\n",
       "    <tr>\n",
       "      <th>4</th>\n",
       "      <td>5</td>\n",
       "      <td>Dr. Bruce Nanner</td>\n",
       "      <td>Hulk</td>\n",
       "    </tr>\n",
       "    <tr>\n",
       "      <th>5</th>\n",
       "      <td>6</td>\n",
       "      <td>Thor Odinson</td>\n",
       "      <td>Thor</td>\n",
       "    </tr>\n",
       "  </tbody>\n",
       "</table>\n",
       "</div>"
      ],
      "text/plain": [
       "   id          identity       superhero\n",
       "0   1        tony stark         Ironman\n",
       "1   2       Stev Rogers  Capton America\n",
       "2   3  Nathasha Romanof     Black Widow\n",
       "3   4      klint barter           Hokey\n",
       "4   5  Dr. Bruce Nanner            Hulk\n",
       "5   6      Thor Odinson            Thor"
      ]
     },
     "execution_count": 18,
     "metadata": {},
     "output_type": "execute_result"
    }
   ],
   "source": [
    "df.toPandas()"
   ]
  },
  {
   "cell_type": "code",
   "execution_count": 19,
   "metadata": {},
   "outputs": [
    {
     "name": "stdout",
     "output_type": "stream",
     "text": [
      "+-----+-----------+--------+---------+---------+--------------------+-----------------+--------------------+------------+--------------+------------+-------+--------------------------+---------------+----------------------+-----------------+--------------------+----------+-----+----------------------+----------+------------+--------+-----------+-----------------+-----------------------+\n",
      "|EmpID|  FirstName|LastName|StartDate| ExitDate|               Title|       Supervisor|             ADEmail|BusinessUnit|EmployeeStatus|EmployeeType|PayZone|EmployeeClassificationType|TerminationType|TerminationDescription|   DepartmentType|            Division|       DOB|State|JobFunctionDescription|GenderCode|LocationCode|RaceDesc|MaritalDesc|Performance Score|Current Employee Rating|\n",
      "+-----+-----------+--------+---------+---------+--------------------+-----------------+--------------------+------------+--------------+------------+-------+--------------------------+---------------+----------------------+-----------------+--------------------+----------+-----+----------------------+----------+------------+--------+-----------+-----------------+-----------------------+\n",
      "| 3427|      Uriah| Bridges|20-Sep-19|     null|Production Techni...|     Peter Oneill|uriah.bridges@bil...|        CCDR|        Active|    Contract| Zone C|                 Temporary|            Unk|                  null|Production       |Finance & Accounting|07-10-1969|   MA|            Accounting|    Female|       34904|   White|    Widowed|      Fully Meets|                      4|\n",
      "| 3428|      Paula|   Small|11-Feb-23|     null|Production Techni...|  Renee Mccormick|paula.small@bilea...|          EW|        Active|    Contract| Zone A|                 Part-Time|            Unk|                  null|Production       |              Aerial|30-08-1965|   MA|                 Labor|      Male|        6593|Hispanic|    Widowed|      Fully Meets|                      3|\n",
      "| 3429|     Edward|    Buck|10-Dec-18|     null|  Area Sales Manager|   Crystal Walker|edward.buck@bilea...|          PL|        Active|   Full-Time| Zone B|                 Part-Time|            Unk|                  null|            Sales|       General - Sga|06-10-1991|   MA|             Assistant|      Male|        2330|Hispanic|    Widowed|      Fully Meets|                      4|\n",
      "| 3430|    Michael| Riordan|21-Jun-21|     null|  Area Sales Manager|   Rebekah Wright|michael.riordan@b...|        CCDR|        Active|    Contract| Zone A|                 Full-Time|            Unk|                  null|            Sales|Finance & Accounting|04-04-1998|   ND|                 Clerk|      Male|       58782|   Other|     Single|      Fully Meets|                      2|\n",
      "| 3431|    Jasmine|   Onque|29-Jun-19|     null|  Area Sales Manager|        Jason Kim|jasmine.onque@bil...|         TNS|        Active|    Contract| Zone A|                 Temporary|            Unk|                  null|            Sales|       General - Con|29-08-1969|   FL|               Laborer|    Female|       33174|   Other|    Married|      Fully Meets|                      3|\n",
      "| 3432|      Maruk|  Fraval|17-Jan-20|     null|  Area Sales Manager|     Sheri Campos|maruk.fraval@bile...|         BPC|        Active|    Contract| Zone B|                 Full-Time|            Unk|                  null|            Sales|    Field Operations|03-04-1949|   CT|                Driver|      Male|        6050|   Black|    Married|      Fully Meets|                      3|\n",
      "| 3433|      Latia|   Costa|06-Apr-22|03-Jul-23|  Area Sales Manager|      Jacob Braun|latia.costa@bilea...|         WBL|        Active|   Full-Time| Zone B|                 Temporary|    Involuntary|  Me see picture na...|            Sales|       General - Eng|01-07-1942|   CA|            Technician|    Female|       90007|Hispanic|   Divorced|          Exceeds|                      4|\n",
      "| 3434|   Sharlene|   Terry|06-Nov-20|29-Jan-23|  Area Sales Manager|    Tracy Marquez|sharlene.terry@bi...|        CCDR|        Active|    Contract| Zone C|                 Full-Time|    Involuntary|  Blue community ty...|            Sales|           Engineers|07-03-1957|   OR|              Engineer|    Female|       97756|   White|   Divorced|      Fully Meets|                      2|\n",
      "| 3435|        Jac|McKinzie|18-Aug-18|     null|  Area Sales Manager|    Sharon Becker|jac.mckinzie@bile...|         NEL|        Active|    Contract| Zone B|                 Part-Time|            Unk|                  null|            Sales|           Executive|15-05-1974|   TX|   Executive Assistant|      Male|       78789|   Black|    Widowed|          Exceeds|                      3|\n",
      "| 3436|     Joseph| Martins|21-Jan-22|29-Jun-23|  Area Sales Manager|   George Jenkins|joseph.martins@bi...|         BPC|        Active|   Part-Time| Zone B|                 Temporary|    Resignation|  Summer personal bag.|            Sales|           Engineers|11-11-1949|   TX|              Engineer|      Male|       78207|   Asian|    Widowed|      Fully Meets|                      5|\n",
      "| 3437|     Myriam|  Givens|04-Aug-23|     null|  Area Sales Manager|       Troy White|myriam.givens@bil...|         SVG|        Active|    Contract| Zone B|                 Temporary|            Unk|                  null|            Sales|    Field Operations|26-01-1964|   IN|            Technician|    Female|       46204|   Other|     Single|      Fully Meets|                      5|\n",
      "| 3438|     Dheepa|  Nguyen|10-Aug-18|04-Nov-19|  Area Sales Manager|     Brian Miller|dheepa.nguyen@bil...|         MSC|        Active|   Full-Time| Zone C|                 Temporary|     Retirement|  Alone once than. ...|            Sales|       General - Con|06-04-1948|   GA|            Technician|    Female|       30428|   Asian|    Married|      Fully Meets|                      3|\n",
      "| 3439|Bartholemew|Khemmich|25-May-22|27-Nov-22|  Area Sales Manager|    Charles Parks|bartholemew.khemm...|          EW|        Active|   Full-Time| Zone A|                 Temporary|    Involuntary|  Foot in theory mi...|            Sales|            Splicing|24-11-1981|   CO|               Splicer|      Male|       80820|   Other|     Single|      Fully Meets|                      3|\n",
      "| 3440|       Xana|   Potts|05-Dec-19|17-Feb-23|  Area Sales Manager|   Gregory Walker|xana.potts@bilear...|        CCDR|        Active|    Contract| Zone A|                 Full-Time|    Resignation|  Degree wish scien...|            Sales|Finance & Accounting|06-11-1951|   KY|            Controller|    Female|       40220|   White|   Divorced|      Fully Meets|                      3|\n",
      "| 3441|     Prater|  Jeremy|28-Apr-19|     null|  Area Sales Manager|      Tyler Lewis|prater.jeremy@bil...|         BPC|        Active|   Part-Time| Zone A|                 Part-Time|            Unk|                  null|            Sales|       General - Con|21-11-1989|   NV|               Lineman|      Male|       89139|   Asian|    Widowed|          Exceeds|                      4|\n",
      "| 3442|     Kaylah|    Moon|09-Jul-19|16-Jun-22|  Area Sales Manager|     Ashley Scott|kaylah.moon@bilea...|         PYZ|        Active|   Full-Time| Zone A|                 Full-Time|     Retirement|  Fear particular m...|            IT/IS|    Field Operations|24-11-1952|   MA|               Laborer|      Male|        2810|   Black|     Single|          Exceeds|                      2|\n",
      "| 3443|    Kristen|    Tate|05-Apr-21|12-May-23|  Area Sales Manager|     Lauren Jones|kristen.tate@bile...|         WBL|        Active|   Full-Time| Zone C|                 Part-Time|      Voluntary|  Wall body wonder ...|            IT/IS|Project Managemen...|08-04-1994|   KY|           Coordinator|      Male|        2621|   Asian|    Widowed|      Fully Meets|                      3|\n",
      "| 3444|      Bobby| Rodgers|28-Nov-21|04-Feb-22|  Area Sales Manager|  Matthew Jackson|bobby.rodgers@bil...|         NEL|        Active|    Contract| Zone A|                 Part-Time|      Voluntary|  Visit foot nearly...|            Sales|           Engineers|15-11-1983|   KY|              Director|      Male|       44553|   Other|    Widowed|      Fully Meets|                      3|\n",
      "| 3445|       Reid|    Park|16-Jan-21|     null|  Area Sales Manager|Michelle Mitchell|reid.park@bilearn...|          PL|        Active|    Contract| Zone C|                 Full-Time|            Unk|                  null|            Sales|Project Managemen...|07-12-1985|   KY|            Supervisor|    Female|        5360|   Other|    Married|          Exceeds|                      4|\n",
      "| 3446|     Hector|  Dalton|24-Aug-21|     null|  Area Sales Manager|    Sydney French|hector.dalton@bil...|         BPC|        Active|   Part-Time| Zone A|                 Part-Time|            Unk|                  null|            Sales|    Field Operations|01-05-1996|   TX|               Driller|    Female|       16325|   White|   Divorced|          Exceeds|                      2|\n",
      "+-----+-----------+--------+---------+---------+--------------------+-----------------+--------------------+------------+--------------+------------+-------+--------------------------+---------------+----------------------+-----------------+--------------------+----------+-----+----------------------+----------+------------+--------+-----------+-----------------+-----------------------+\n",
      "only showing top 20 rows\n",
      "\n"
     ]
    }
   ],
   "source": [
    "employee_df = (spark.read\n",
    "                .format(\"csv\")\n",
    "                .option(\"header\",\"true\")\n",
    "                .option(\"inferSchema\",\"true\")\n",
    "                .load(\"./employee_data.csv\")\n",
    "                )\n",
    "\n",
    "employee_df.show()   \n",
    "pd_df =employee_df.toPandas()\n"
   ]
  },
  {
   "cell_type": "code",
   "execution_count": 22,
   "metadata": {},
   "outputs": [
    {
     "name": "stdout",
     "output_type": "stream",
     "text": [
      "<class 'pandas.core.frame.DataFrame'>\n",
      "RangeIndex: 3000 entries, 0 to 2999\n",
      "Data columns (total 26 columns):\n",
      " #   Column                      Non-Null Count  Dtype \n",
      "---  ------                      --------------  ----- \n",
      " 0   EmpID                       3000 non-null   int32 \n",
      " 1   FirstName                   3000 non-null   object\n",
      " 2   LastName                    3000 non-null   object\n",
      " 3   StartDate                   3000 non-null   object\n",
      " 4   ExitDate                    1533 non-null   object\n",
      " 5   Title                       3000 non-null   object\n",
      " 6   Supervisor                  3000 non-null   object\n",
      " 7   ADEmail                     3000 non-null   object\n",
      " 8   BusinessUnit                3000 non-null   object\n",
      " 9   EmployeeStatus              3000 non-null   object\n",
      " 10  EmployeeType                3000 non-null   object\n",
      " 11  PayZone                     3000 non-null   object\n",
      " 12  EmployeeClassificationType  3000 non-null   object\n",
      " 13  TerminationType             3000 non-null   object\n",
      " 14  TerminationDescription      1533 non-null   object\n",
      " 15  DepartmentType              3000 non-null   object\n",
      " 16  Division                    3000 non-null   object\n",
      " 17  DOB                         3000 non-null   object\n",
      " 18  State                       3000 non-null   object\n",
      " 19  JobFunctionDescription      3000 non-null   object\n",
      " 20  GenderCode                  3000 non-null   object\n",
      " 21  LocationCode                3000 non-null   int32 \n",
      " 22  RaceDesc                    3000 non-null   object\n",
      " 23  MaritalDesc                 3000 non-null   object\n",
      " 24  Performance Score           3000 non-null   object\n",
      " 25  Current Employee Rating     3000 non-null   int32 \n",
      "dtypes: int32(3), object(23)\n",
      "memory usage: 574.3+ KB\n"
     ]
    }
   ],
   "source": [
    "pd_df.info()"
   ]
  },
  {
   "cell_type": "code",
   "execution_count": 28,
   "metadata": {},
   "outputs": [
    {
     "data": {
      "text/plain": [
       "1038"
      ]
     },
     "execution_count": 28,
     "metadata": {},
     "output_type": "execute_result"
    }
   ],
   "source": [
    "df1 = (employee_df\n",
    "       .select(\"FirstName\",\"LastName\",\"Title\",\"BusinessUnit\",\"EmployeeType\",\"PayZone\")\n",
    "       .where(employee_df[\"EmployeeType\"]==\"Full-Time\")\n",
    "       )\n",
    "df1.count()"
   ]
  },
  {
   "cell_type": "code",
   "execution_count": null,
   "metadata": {},
   "outputs": [
    {
     "data": {
      "text/plain": [
       "[Column<'summary'>,\n",
       " Column<'EmpID'>,\n",
       " Column<'FirstName'>,\n",
       " Column<'LastName'>,\n",
       " Column<'StartDate'>,\n",
       " Column<'ExitDate'>,\n",
       " Column<'Title'>,\n",
       " Column<'Supervisor'>,\n",
       " Column<'ADEmail'>,\n",
       " Column<'BusinessUnit'>,\n",
       " Column<'EmployeeStatus'>,\n",
       " Column<'EmployeeType'>,\n",
       " Column<'PayZone'>,\n",
       " Column<'EmployeeClassificationType'>,\n",
       " Column<'TerminationType'>,\n",
       " Column<'TerminationDescription'>,\n",
       " Column<'DepartmentType'>,\n",
       " Column<'Division'>,\n",
       " Column<'DOB'>,\n",
       " Column<'State'>,\n",
       " Column<'JobFunctionDescription'>,\n",
       " Column<'GenderCode'>,\n",
       " Column<'LocationCode'>,\n",
       " Column<'RaceDesc'>,\n",
       " Column<'MaritalDesc'>,\n",
       " Column<'Performance Score'>,\n",
       " Column<'Current Employee Rating'>]"
      ]
     },
     "execution_count": 10,
     "metadata": {},
     "output_type": "execute_result"
    }
   ],
   "source": [
    "schema_list =list(employee_df.describe())\n",
    "schema_list"
   ]
  },
  {
   "cell_type": "code",
   "execution_count": null,
   "metadata": {},
   "outputs": [],
   "source": []
  }
 ],
 "metadata": {
  "kernelspec": {
   "display_name": "Python 3",
   "language": "python",
   "name": "python3"
  },
  "language_info": {
   "codemirror_mode": {
    "name": "ipython",
    "version": 3
   },
   "file_extension": ".py",
   "mimetype": "text/x-python",
   "name": "python",
   "nbconvert_exporter": "python",
   "pygments_lexer": "ipython3",
   "version": "3.10.3"
  }
 },
 "nbformat": 4,
 "nbformat_minor": 2
}
