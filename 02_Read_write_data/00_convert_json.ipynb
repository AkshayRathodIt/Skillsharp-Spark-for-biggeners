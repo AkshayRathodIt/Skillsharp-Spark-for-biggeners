{
 "cells": [
  {
   "cell_type": "code",
   "execution_count": 2,
   "metadata": {},
   "outputs": [],
   "source": [
    "import pandas as pd"
   ]
  },
  {
   "cell_type": "code",
   "execution_count": null,
   "metadata": {},
   "outputs": [],
   "source": [
    "try:\n",
    "    # Read the CSV file with headers\n",
    "    df = pd.read_csv(\"./source/csv/employee_1.csv\")\n",
    "    \n",
    "    # Convert the DataFrame to a JSON file\n",
    "    df.to_json(\"./source/json/employee_1.json\", orient='records', indent=4)\n",
    "    \n",
    "    print(f\"JSON file has been created successfully at: ./source/json/\")\n",
    "except Exception as e:\n",
    "    print(f\"An error occurred: {e}\")"
   ]
  }
 ],
 "metadata": {
  "kernelspec": {
   "display_name": "Python 3",
   "language": "python",
   "name": "python3"
  },
  "language_info": {
   "codemirror_mode": {
    "name": "ipython",
    "version": 3
   },
   "file_extension": ".py",
   "mimetype": "text/x-python",
   "name": "python",
   "nbconvert_exporter": "python",
   "pygments_lexer": "ipython3",
   "version": "3.10.3"
  }
 },
 "nbformat": 4,
 "nbformat_minor": 2
}
