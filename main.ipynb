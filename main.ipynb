{
 "cells": [
  {
   "cell_type": "code",
   "execution_count": 2,
   "metadata": {},
   "outputs": [],
   "source": [
    "import time\n",
    "from pyspark.sql import SparkSession\n",
    "from pyspark.sql.functions import col"
   ]
  },
  {
   "cell_type": "code",
   "execution_count": 3,
   "metadata": {},
   "outputs": [
    {
     "data": {
      "text/html": [
       "\n",
       "            <div>\n",
       "                <p><b>SparkSession - in-memory</b></p>\n",
       "                \n",
       "        <div>\n",
       "            <p><b>SparkContext</b></p>\n",
       "\n",
       "            <p><a href=\"http://DESKTOP-B3DEEE2:4040\">Spark UI</a></p>\n",
       "\n",
       "            <dl>\n",
       "              <dt>Version</dt>\n",
       "                <dd><code>v3.2.1</code></dd>\n",
       "              <dt>Master</dt>\n",
       "                <dd><code>local[3]</code></dd>\n",
       "              <dt>AppName</dt>\n",
       "                <dd><code>my_spark_app</code></dd>\n",
       "            </dl>\n",
       "        </div>\n",
       "        \n",
       "            </div>\n",
       "        "
      ],
      "text/plain": [
       "<pyspark.sql.session.SparkSession at 0x19fcca470d0>"
      ]
     },
     "execution_count": 3,
     "metadata": {},
     "output_type": "execute_result"
    }
   ],
   "source": [
    "spark = (SparkSession\n",
    "        .builder\n",
    "        .master(\"local[3]\")\n",
    "        .appName(\"my_spark_app\")\n",
    "        .config(\"spark.sql.shuffle.partition\",2)\n",
    "        .config(\"spark.cache.enabled\",\"false\")\n",
    "        .config(\"spark.stage.reuse.enabled\",\"false\")\n",
    "        .getOrCreate()\n",
    "        )\n",
    "spark"
   ]
  },
  {
   "cell_type": "code",
   "execution_count": 4,
   "metadata": {},
   "outputs": [
    {
     "data": {
      "text/plain": [
       "[Row(EmployeeType='Contract', count=235),\n",
       " Row(EmployeeType='Full-Time', count=229),\n",
       " Row(EmployeeType='Part-Time', count=225)]"
      ]
     },
     "execution_count": 4,
     "metadata": {},
     "output_type": "execute_result"
    }
   ],
   "source": [
    "employee_df = (spark.read\n",
    "                # .format(\"csv\")\n",
    "                .option(\"header\",\"true\")\n",
    "                .option(\"inferSchema\",\"true\")\n",
    "                .csv(\"./employee_data.csv\")\n",
    "                # .csv(\"./employee_data.csv\")\n",
    "                )\n",
    "\n",
    "# employee_df.collect()\n",
    "# new_df.info()\n",
    "# new_df\n",
    "partation_df = employee_df.repartition(2)\n",
    "\n",
    "count_df = (partation_df\n",
    "            .withColumn(\"Current Employee Rating\", col(\"Current Employee Rating\").cast(\"int\"))\n",
    "            .filter(col(\"Current Employee Rating\") > 3)\n",
    "            .select(\"FirstName\",\"LastName\",\"Title\",\"EmployeeType\",\"DOB\",\"Current Employee Rating\")\n",
    "            .groupBy(\"EmployeeType\")\n",
    "            .count()\n",
    "            )\n",
    "\n",
    "count_df.collect()"
   ]
  },
  {
   "cell_type": "code",
   "execution_count": 5,
   "metadata": {},
   "outputs": [
    {
     "name": "stdout",
     "output_type": "stream",
     "text": [
      "+------------+-----+\n",
      "|EmployeeType|count|\n",
      "+------------+-----+\n",
      "|    Contract|  235|\n",
      "|   Full-Time|  229|\n",
      "|   Part-Time|  225|\n",
      "+------------+-----+\n",
      "\n"
     ]
    }
   ],
   "source": [
    "count_df.show()"
   ]
  },
  {
   "cell_type": "code",
   "execution_count": null,
   "metadata": {},
   "outputs": [],
   "source": []
  }
 ],
 "metadata": {
  "kernelspec": {
   "display_name": "Python 3",
   "language": "python",
   "name": "python3"
  },
  "language_info": {
   "codemirror_mode": {
    "name": "ipython",
    "version": 3
   },
   "file_extension": ".py",
   "mimetype": "text/x-python",
   "name": "python",
   "nbconvert_exporter": "python",
   "pygments_lexer": "ipython3",
   "version": "3.10.3"
  }
 },
 "nbformat": 4,
 "nbformat_minor": 2
}
